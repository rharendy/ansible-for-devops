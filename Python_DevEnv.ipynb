{
  "nbformat": 4,
  "nbformat_minor": 0,
  "metadata": {
    "colab": {
      "provenance": [],
      "authorship_tag": "ABX9TyNAAblU6Yxc1yY8Rea6P/6x",
      "include_colab_link": true
    },
    "kernelspec": {
      "name": "python3",
      "display_name": "Python 3"
    },
    "language_info": {
      "name": "python"
    }
  },
  "cells": [
    {
      "cell_type": "markdown",
      "metadata": {
        "id": "view-in-github",
        "colab_type": "text"
      },
      "source": [
        "<a href=\"https://colab.research.google.com/github/rharendy/ansible-for-devops/blob/master/Python_DevEnv.ipynb\" target=\"_parent\"><img src=\"https://colab.research.google.com/assets/colab-badge.svg\" alt=\"Open In Colab\"/></a>"
      ]
    },
    {
      "cell_type": "code",
      "execution_count": 2,
      "metadata": {
        "colab": {
          "base_uri": "https://localhost:8080/"
        },
        "id": "QjqLpPg_xMwc",
        "outputId": "e621c90b-2af0-40c4-c7a5-193008ec0779"
      },
      "outputs": [
        {
          "output_type": "stream",
          "name": "stdout",
          "text": [
            "What is your name? Ben\n",
            "How old are you? 60\n",
            "Hello Ben, you're in the prime of your life!\n"
          ]
        }
      ],
      "source": [
        "# Simple Python program to demonstrate user input and conditional logic\n",
        "\n",
        "# Ask the user for their name\n",
        "name = input(\"What is your name? \")\n",
        "\n",
        "# Ask the user for their age\n",
        "age = input(\"How old are you? \")\n",
        "\n",
        "# Convert age to an integer\n",
        "try:\n",
        "    age = int(age)\n",
        "    # Check the age and print a personalized message\n",
        "    if age < 0:\n",
        "        print(\"Invalid age! Please enter a positive number.\")\n",
        "    elif age < 18:\n",
        "        print(f\"Hi {name}, you're still young! Enjoy your youth.\")\n",
        "    elif age >= 18 and age < 65:\n",
        "        print(f\"Hello {name}, you're in the prime of your life!\")\n",
        "    else:\n",
        "        print(f\"Welcome {name}, you have a wealth of experience!\")\n",
        "except ValueError:\n",
        "    print(\"Invalid input! Please enter a valid number for your age.\")"
      ]
    },
    {
      "cell_type": "code",
      "source": [
        "import networkx as nx\n",
        "import matplotlib.pyplot as plt\n",
        "\n",
        "# Create a directed graph\n",
        "G = nx.DiGraph()\n",
        "\n",
        "# Add nodes\n",
        "G.add_node(\"OpenAI\", description=\"AI Research Organization\")\n",
        "G.add_node(\"Ollama\", description=\"Tool/Platform for AI Integration\")\n",
        "\n",
        "# Add edges (relationships)\n",
        "G.add_edge(\"OpenAI\", \"Ollama\", label=\"Provides AI Models\")\n",
        "G.add_edge(\"Ollama\", \"OpenAI\", label=\"Sends Feedback/Data\")\n",
        "\n",
        "# Draw the graph\n",
        "pos = nx.spring_layout(G)  # Layout for positioning nodes\n",
        "nx.draw(G, pos, with_labels=True, node_size=3000, node_color=\"lightblue\", font_size=10, font_weight=\"bold\")\n",
        "\n",
        "# Draw edge labels\n",
        "edge_labels = nx.get_edge_attributes(G, 'label')\n",
        "nx.draw_networkx_edge_labels(G, pos, edge_labels=edge_labels)\n",
        "\n",
        "# Display the diagram\n",
        "plt.title(\"Network Diagram: OpenAI and Ollama\")\n",
        "plt.show()"
      ],
      "metadata": {
        "colab": {
          "base_uri": "https://localhost:8080/",
          "height": 539
        },
        "id": "n7VHY-3Wx9cf",
        "outputId": "2b22298b-def7-468a-edc9-23a62567e931"
      },
      "execution_count": 3,
      "outputs": [
        {
          "output_type": "display_data",
          "data": {
            "text/plain": [
              "<Figure size 640x480 with 1 Axes>"
            ],
            "image/png": "[encoded data removed]"
          },
          "metadata": {}
        }
      ]
    },
    {
      "cell_type": "code",
      "source": [
        "from graphviz import Digraph\n",
        "\n",
        "# Create a directed graph\n",
        "dot = Digraph(comment=\"Kubernetes Components\")\n",
        "\n",
        "# Add nodes (Kubernetes components)\n",
        "dot.node(\"Deployment\", \"Deployment\\nManages Pods\")\n",
        "dot.node(\"ReplicaSet\", \"ReplicaSet\\nEnsures Pod count\")\n",
        "dot.node(\"Pod\", \"Pod\\nRuns Containers\")\n",
        "dot.node(\"Service\", \"Service\\nExposes Pods\")\n",
        "dot.node(\"Node\", \"Node\\nHosts Pods\")\n",
        "\n",
        "# Add edges (relationships)\n",
        "dot.edge(\"Deployment\", \"ReplicaSet\", \"Creates\")\n",
        "dot.edge(\"ReplicaSet\", \"Pod\", \"Manages\")\n",
        "dot.edge(\"Pod\", \"Node\", \"Runs on\")\n",
        "dot.edge(\"Service\", \"Pod\", \"Exposes\")\n",
        "\n",
        "# Render the diagram\n",
        "dot.render(\"kubernetes_diagram.gv\", view=True)"
      ],
      "metadata": {
        "id": "RVbtPFesyg2k"
      },
      "execution_count": null,
      "outputs": []
    },
    {
      "cell_type": "code",
      "source": [
        "pip install graphviz"
      ],
      "metadata": {
        "colab": {
          "base_uri": "https://localhost:8080/"
        },
        "id": "WgM9FtkVy60R",
        "outputId": "a40f7929-8017-4245-e627-ae6117ca20ef"
      },
      "execution_count": 6,
      "outputs": [
        {
          "output_type": "stream",
          "name": "stdout",
          "text": [
            "Requirement already satisfied: graphviz in /usr/local/lib/python3.11/dist-packages (0.20.3)\n"
          ]
        }
      ]
    },
    {
      "cell_type": "code",
      "source": [
        "from graphviz import Digraph\n",
        "\n",
        "# Create a directed graph\n",
        "dot = Digraph(comment=\"Kubernetes Components\")\n",
        "\n",
        "# Add nodes (Kubernetes components)\n",
        "dot.node(\"Deployment\", \"Deployment\\nManages Pods\")\n",
        "dot.node(\"ReplicaSet\", \"ReplicaSet\\nEnsures Pod count\")\n",
        "dot.node(\"Pod\", \"Pod\\nRuns Containers\")\n",
        "dot.node(\"Service\", \"Service\\nExposes Pods\")\n",
        "dot.node(\"Node\", \"Node\\nHosts Pods\")\n",
        "\n",
        "# Add edges (relationships)\n",
        "dot.edge(\"Deployment\", \"ReplicaSet\", \"Creates\")\n",
        "dot.edge(\"ReplicaSet\", \"Pod\", \"Manages\")\n",
        "dot.edge(\"Pod\", \"Node\", \"Runs on\")\n",
        "dot.edge(\"Service\", \"Pod\", \"Exposes\")\n",
        "\n",
        "# Render the diagram\n",
        "dot.render(\"kubernetes_diagram.gv\", view=True)"
      ],
      "metadata": {
        "colab": {
          "base_uri": "https://localhost:8080/",
          "height": 35
        },
        "id": "89lsMmN9y_IT",
        "outputId": "d00bb792-72aa-4756-c4e3-26d8af7ddb92"
      },
      "execution_count": 7,
      "outputs": [
        {
          "output_type": "execute_result",
          "data": {
            "text/plain": [
              "'kubernetes_diagram.gv.pdf'"
            ],
            "application/vnd.google.colaboratory.intrinsic+json": {
              "type": "string"
            }
          },
          "metadata": {},
          "execution_count": 7
        }
      ]
    },
    {
      "cell_type": "code",
      "source": [
        "from graphviz import Digraph\n",
        "\n",
        "# Create a directed graph\n",
        "dot = Digraph(comment=\"Kubernetes Components\")\n",
        "\n",
        "# Add nodes (Kubernetes components)\n",
        "dot.node(\"Deployment\", \"Deployment\\nManages ReplicaSets\")\n",
        "dot.node(\"ReplicaSet1\", \"ReplicaSet 1\\nManages Pods\")\n",
        "dot.node(\"ReplicaSet2\", \"ReplicaSet 2\\nManages Pods\")\n",
        "dot.node(\"Pod1\", \"Pod 1\\nRuns Containers\")\n",
        "dot.node(\"Pod2\", \"Pod 2\\nRuns Containers\")\n",
        "dot.node(\"Pod3\", \"Pod 3\\nRuns Containers\")\n",
        "dot.node(\"Pod4\", \"Pod 4\\nRuns Containers\")\n",
        "\n",
        "# Add edges (relationships)\n",
        "dot.edge(\"Deployment\", \"ReplicaSet1\", \"Creates\")\n",
        "dot.edge(\"Deployment\", \"ReplicaSet2\", \"Creates\")\n",
        "dot.edge(\"ReplicaSet1\", \"Pod1\", \"Manages\")\n",
        "dot.edge(\"ReplicaSet1\", \"Pod2\", \"Manages\")\n",
        "dot.edge(\"ReplicaSet2\", \"Pod3\", \"Manages\")\n",
        "dot.edge(\"ReplicaSet2\", \"Pod4\", \"Manages\")\n",
        "\n",
        "# Render the diagram\n",
        "dot.render(\"kubernetes_logic_diagram.gv\", view=True)"
      ],
      "metadata": {
        "colab": {
          "base_uri": "https://localhost:8080/",
          "height": 35
        },
        "id": "WT5fCI3pzeEG",
        "outputId": "b1121852-a8a1-4ecd-acf1-29ddfa0c6970"
      },
      "execution_count": 8,
      "outputs": [
        {
          "output_type": "execute_result",
          "data": {
            "text/plain": [
              "'kubernetes_logic_diagram.gv.pdf'"
            ],
            "application/vnd.google.colaboratory.intrinsic+json": {
              "type": "string"
            }
          },
          "metadata": {},
          "execution_count": 8
        }
      ]
    }
  ]
}